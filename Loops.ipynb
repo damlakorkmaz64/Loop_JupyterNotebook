{
 "cells": [
  {
   "cell_type": "code",
   "execution_count": 1,
   "id": "cad43ffa",
   "metadata": {},
   "outputs": [],
   "source": [
    "#for loop while loop"
   ]
  },
  {
   "cell_type": "code",
   "execution_count": null,
   "id": "d1074c15",
   "metadata": {},
   "outputs": [],
   "source": []
  },
  {
   "cell_type": "code",
   "execution_count": 2,
   "id": "d8a7d32b",
   "metadata": {},
   "outputs": [],
   "source": [
    "#for loop"
   ]
  },
  {
   "cell_type": "code",
   "execution_count": 3,
   "id": "7fd45a47",
   "metadata": {},
   "outputs": [],
   "source": [
    "my_list=[10,20,30,40,50,60,70]"
   ]
  },
  {
   "cell_type": "code",
   "execution_count": 4,
   "id": "c7d59dd9",
   "metadata": {},
   "outputs": [
    {
     "name": "stdout",
     "output_type": "stream",
     "text": [
      "10\n",
      "20\n",
      "30\n",
      "40\n",
      "50\n",
      "60\n",
      "70\n"
     ]
    }
   ],
   "source": [
    "for number in my_list:\n",
    "    print(number)"
   ]
  },
  {
   "cell_type": "code",
   "execution_count": 7,
   "id": "48a05ffc",
   "metadata": {},
   "outputs": [
    {
     "name": "stdout",
     "output_type": "stream",
     "text": [
      "for loop started\n",
      "4.0\n",
      "8.0\n",
      "12.0\n",
      "16.0\n",
      "20.0\n",
      "24.0\n",
      "28.0\n",
      "for loop ended\n"
     ]
    }
   ],
   "source": [
    "print(\"for loop started\")\n",
    "for x in my_list:\n",
    "    new_number=x/5*2#for döngüsü bloğu\n",
    "    print(new_number)\n",
    "print(\"for loop ended\")#for döngüsü ile alakası yok"
   ]
  },
  {
   "cell_type": "code",
   "execution_count": 8,
   "id": "526035e4",
   "metadata": {},
   "outputs": [
    {
     "name": "stdout",
     "output_type": "stream",
     "text": [
      "30\n",
      "60\n"
     ]
    }
   ],
   "source": [
    "#liste içinde sadece altıya tam bölünebilenler\n",
    "for i in my_list:\n",
    "    if i%6==0:\n",
    "        print(i)"
   ]
  },
  {
   "cell_type": "code",
   "execution_count": 9,
   "id": "bbd3723e",
   "metadata": {},
   "outputs": [],
   "source": [
    "my_string=\"damla korkmaz\""
   ]
  },
  {
   "cell_type": "code",
   "execution_count": 10,
   "id": "e4d4ca2f",
   "metadata": {},
   "outputs": [
    {
     "name": "stdout",
     "output_type": "stream",
     "text": [
      "d\n",
      "a\n",
      "m\n",
      "l\n",
      "a\n",
      " \n",
      "k\n",
      "o\n",
      "r\n",
      "k\n",
      "m\n",
      "a\n",
      "z\n"
     ]
    }
   ],
   "source": [
    "for c in my_string:\n",
    "    print(c)"
   ]
  },
  {
   "cell_type": "code",
   "execution_count": 11,
   "id": "ebcef966",
   "metadata": {},
   "outputs": [],
   "source": [
    "my_tuple=(10,20,30,40,50,60,70)"
   ]
  },
  {
   "cell_type": "code",
   "execution_count": 12,
   "id": "715ae3c5",
   "metadata": {},
   "outputs": [
    {
     "name": "stdout",
     "output_type": "stream",
     "text": [
      "4.0\n",
      "8.0\n",
      "12.0\n",
      "16.0\n",
      "20.0\n",
      "24.0\n",
      "28.0\n"
     ]
    }
   ],
   "source": [
    "for num in my_tuple:\n",
    "    print(num/5*2)"
   ]
  },
  {
   "cell_type": "code",
   "execution_count": 13,
   "id": "35af4dbf",
   "metadata": {},
   "outputs": [],
   "source": [
    "my_new_list=[(\"a\",\"b\"),(\"c\",\"d\"),(\"e\",\"f\"),(\"g\",\"h\")]"
   ]
  },
  {
   "cell_type": "code",
   "execution_count": 14,
   "id": "ccdaa08d",
   "metadata": {},
   "outputs": [
    {
     "data": {
      "text/plain": [
       "4"
      ]
     },
     "execution_count": 14,
     "metadata": {},
     "output_type": "execute_result"
    }
   ],
   "source": [
    "len(my_new_list)"
   ]
  },
  {
   "cell_type": "code",
   "execution_count": 16,
   "id": "2b5af9ce",
   "metadata": {},
   "outputs": [
    {
     "data": {
      "text/plain": [
       "('a', 'b')"
      ]
     },
     "execution_count": 16,
     "metadata": {},
     "output_type": "execute_result"
    }
   ],
   "source": [
    "my_new_list[0]"
   ]
  },
  {
   "cell_type": "code",
   "execution_count": 17,
   "id": "a70bef48",
   "metadata": {},
   "outputs": [
    {
     "name": "stdout",
     "output_type": "stream",
     "text": [
      "('a', 'b')\n",
      "('c', 'd')\n",
      "('e', 'f')\n",
      "('g', 'h')\n"
     ]
    }
   ],
   "source": [
    "for element in my_new_list:\n",
    "    print(element)"
   ]
  },
  {
   "cell_type": "code",
   "execution_count": 18,
   "id": "7d11c207",
   "metadata": {},
   "outputs": [],
   "source": [
    "#tuple unpacking"
   ]
  },
  {
   "cell_type": "code",
   "execution_count": 19,
   "id": "34fb4781",
   "metadata": {},
   "outputs": [
    {
     "name": "stdout",
     "output_type": "stream",
     "text": [
      "b\n",
      "d\n",
      "f\n",
      "h\n"
     ]
    }
   ],
   "source": [
    "for (x,y) in my_new_list:\n",
    "    print(y)"
   ]
  },
  {
   "cell_type": "code",
   "execution_count": 20,
   "id": "05058e1d",
   "metadata": {},
   "outputs": [],
   "source": [
    "my_set={1,2,3,4,5}"
   ]
  },
  {
   "cell_type": "code",
   "execution_count": 21,
   "id": "71c8c3c4",
   "metadata": {},
   "outputs": [
    {
     "name": "stdout",
     "output_type": "stream",
     "text": [
      "1\n",
      "2\n",
      "3\n",
      "4\n",
      "5\n"
     ]
    }
   ],
   "source": [
    "for num in my_set:\n",
    "    print(num)"
   ]
  },
  {
   "cell_type": "code",
   "execution_count": 22,
   "id": "1e798fee",
   "metadata": {},
   "outputs": [],
   "source": [
    "my_dictionary={\"k1\":100,\"k2\":200,\"k3\":300}"
   ]
  },
  {
   "cell_type": "code",
   "execution_count": 23,
   "id": "99e8876f",
   "metadata": {},
   "outputs": [
    {
     "name": "stdout",
     "output_type": "stream",
     "text": [
      "k1\n",
      "k2\n",
      "k3\n"
     ]
    }
   ],
   "source": [
    "for element in my_dictionary:\n",
    "    print(element)"
   ]
  },
  {
   "cell_type": "code",
   "execution_count": 24,
   "id": "973deca6",
   "metadata": {},
   "outputs": [
    {
     "data": {
      "text/plain": [
       "dict_items([('k1', 100), ('k2', 200), ('k3', 300)])"
      ]
     },
     "execution_count": 24,
     "metadata": {},
     "output_type": "execute_result"
    }
   ],
   "source": [
    "my_dictionary.items()"
   ]
  },
  {
   "cell_type": "code",
   "execution_count": 25,
   "id": "7ec52974",
   "metadata": {},
   "outputs": [
    {
     "name": "stdout",
     "output_type": "stream",
     "text": [
      "100\n",
      "200\n",
      "300\n"
     ]
    }
   ],
   "source": [
    "for (key,value) in my_dictionary.items():\n",
    "    print(value)"
   ]
  },
  {
   "cell_type": "code",
   "execution_count": 26,
   "id": "942617f1",
   "metadata": {},
   "outputs": [],
   "source": [
    "#continue -break-pas"
   ]
  },
  {
   "cell_type": "code",
   "execution_count": 27,
   "id": "edfd2715",
   "metadata": {},
   "outputs": [],
   "source": [
    "my_list=[10,20,30,40,50,60,70]"
   ]
  },
  {
   "cell_type": "code",
   "execution_count": 29,
   "id": "447deb07",
   "metadata": {},
   "outputs": [
    {
     "name": "stdout",
     "output_type": "stream",
     "text": [
      "for loop started\n",
      "10\n",
      "20\n",
      "30\n",
      "40\n",
      "50\n",
      "60\n",
      "70\n",
      "for loop ended\n"
     ]
    }
   ],
   "source": [
    "print(\"for loop started\")\n",
    "for num in my_list:\n",
    "    print(num)\n",
    "print(\"for loop ended\")"
   ]
  },
  {
   "cell_type": "code",
   "execution_count": 31,
   "id": "12890cab",
   "metadata": {},
   "outputs": [
    {
     "name": "stdout",
     "output_type": "stream",
     "text": [
      "10\n",
      "20\n",
      "30\n",
      "40\n",
      "yes\n"
     ]
    }
   ],
   "source": [
    "for number in my_list:\n",
    "    print(number)\n",
    "    if number==40:\n",
    "        print(\"yes\")\n",
    "        break #döngüden çık"
   ]
  },
  {
   "cell_type": "code",
   "execution_count": 33,
   "id": "ea99baa7",
   "metadata": {},
   "outputs": [],
   "source": [
    "my_list=[10,20,30,40,50,60,70]"
   ]
  },
  {
   "cell_type": "code",
   "execution_count": 38,
   "id": "28c10811",
   "metadata": {},
   "outputs": [
    {
     "name": "stdout",
     "output_type": "stream",
     "text": [
      "10\n",
      "20\n",
      "30\n",
      "50\n",
      "60\n",
      "70\n"
     ]
    }
   ],
   "source": [
    "for number in my_list:\n",
    "    \n",
    "    if number==40:\n",
    "       \n",
    "         continue#Bundan sonraki kodları çalıştırma\n",
    "    print(number)"
   ]
  },
  {
   "cell_type": "code",
   "execution_count": null,
   "id": "1acab300",
   "metadata": {},
   "outputs": [],
   "source": [
    "for num in my_list:\n",
    "    pass#Daha çok kodu geliştirirken ne yapılacağı tam belli olmadığında"
   ]
  },
  {
   "cell_type": "code",
   "execution_count": null,
   "id": "9b9c829a",
   "metadata": {},
   "outputs": [],
   "source": [
    "#while"
   ]
  },
  {
   "cell_type": "code",
   "execution_count": 4,
   "id": "427b7499",
   "metadata": {},
   "outputs": [],
   "source": [
    "x=0"
   ]
  },
  {
   "cell_type": "code",
   "execution_count": 5,
   "id": "27587150",
   "metadata": {},
   "outputs": [
    {
     "name": "stdout",
     "output_type": "stream",
     "text": [
      "while loop started\n",
      "0\n",
      "1\n",
      "2\n",
      "3\n",
      "4\n",
      "5\n",
      "6\n",
      "7\n",
      "8\n",
      "9\n",
      "while loop ended\n"
     ]
    }
   ],
   "source": [
    "print(\"while loop started\")\n",
    "while x<10:\n",
    "    print(x)\n",
    "    x=x+1\n",
    "print(\"while loop ended\")"
   ]
  },
  {
   "cell_type": "code",
   "execution_count": 9,
   "id": "4372dfa5",
   "metadata": {},
   "outputs": [],
   "source": [
    "last_list=[10,20,30,40,50]"
   ]
  },
  {
   "cell_type": "code",
   "execution_count": 10,
   "id": "6ab4271b",
   "metadata": {},
   "outputs": [
    {
     "name": "stdout",
     "output_type": "stream",
     "text": [
      "20 in last_list\n",
      "20 in last_list\n",
      "20 in last_list\n",
      "20 in last_list\n"
     ]
    }
   ],
   "source": [
    "while 20 in last_list:\n",
    "    print(\"20 in last_list\")\n",
    "    last_list.pop()"
   ]
  },
  {
   "cell_type": "code",
   "execution_count": 11,
   "id": "e8c25b93",
   "metadata": {},
   "outputs": [],
   "source": [
    "my_list=[10,20,30]"
   ]
  },
  {
   "cell_type": "code",
   "execution_count": 12,
   "id": "4c65461a",
   "metadata": {},
   "outputs": [
    {
     "data": {
      "text/plain": [
       "[10, 20, 30]"
      ]
     },
     "execution_count": 12,
     "metadata": {},
     "output_type": "execute_result"
    }
   ],
   "source": [
    "my_list"
   ]
  },
  {
   "cell_type": "code",
   "execution_count": 13,
   "id": "ac140927",
   "metadata": {},
   "outputs": [
    {
     "name": "stdout",
     "output_type": "stream",
     "text": [
      "[10, 20, 30]\n"
     ]
    }
   ],
   "source": [
    "print(my_list)"
   ]
  },
  {
   "cell_type": "code",
   "execution_count": 14,
   "id": "a799af63",
   "metadata": {},
   "outputs": [
    {
     "name": "stdout",
     "output_type": "stream",
     "text": [
      "my list: [10, 20, 30]\n"
     ]
    }
   ],
   "source": [
    "print(f\"my list: {my_list}\")#string formatting"
   ]
  },
  {
   "cell_type": "code",
   "execution_count": 15,
   "id": "b273537a",
   "metadata": {},
   "outputs": [
    {
     "name": "stdout",
     "output_type": "stream",
     "text": [
      "enter name:damla\n"
     ]
    }
   ],
   "source": [
    "name=input(\"enter name:\")"
   ]
  },
  {
   "cell_type": "code",
   "execution_count": 16,
   "id": "0acd04a4",
   "metadata": {},
   "outputs": [
    {
     "name": "stdout",
     "output_type": "stream",
     "text": [
      "welcome damla\n"
     ]
    }
   ],
   "source": [
    "print(f\"welcome {name}\")"
   ]
  },
  {
   "cell_type": "code",
   "execution_count": 18,
   "id": "fb496ef7",
   "metadata": {},
   "outputs": [
    {
     "name": "stdout",
     "output_type": "stream",
     "text": [
      "welcome damla\n"
     ]
    }
   ],
   "source": [
    "print(\"welcome\",name)"
   ]
  },
  {
   "cell_type": "code",
   "execution_count": 20,
   "id": "4c41e623",
   "metadata": {},
   "outputs": [
    {
     "name": "stdout",
     "output_type": "stream",
     "text": [
      "value of p:0\n",
      "value of p:1\n",
      "value of p:2\n",
      "value of p:3\n",
      "value of p:4\n",
      "value of p:5\n",
      "value of p:6\n",
      "value of p:7\n",
      "value of p:8\n",
      "value of p:9\n",
      "value of p:10\n",
      "value of p:11\n",
      "value of p:12\n",
      "value of p:13\n",
      "value of p:14\n",
      "value of p:15\n",
      "value of p:16\n",
      "value of p:17\n",
      "value of p:18\n",
      "value of p:19\n"
     ]
    }
   ],
   "source": [
    "p=0\n",
    "while p<20:\n",
    "    print(f\"value of p:{p}\")\n",
    "    p+=1"
   ]
  },
  {
   "cell_type": "code",
   "execution_count": null,
   "id": "53fa22cd",
   "metadata": {},
   "outputs": [],
   "source": []
  }
 ],
 "metadata": {
  "kernelspec": {
   "display_name": "Python 3 (ipykernel)",
   "language": "python",
   "name": "python3"
  },
  "language_info": {
   "codemirror_mode": {
    "name": "ipython",
    "version": 3
   },
   "file_extension": ".py",
   "mimetype": "text/x-python",
   "name": "python",
   "nbconvert_exporter": "python",
   "pygments_lexer": "ipython3",
   "version": "3.11.7"
  }
 },
 "nbformat": 4,
 "nbformat_minor": 5
}
